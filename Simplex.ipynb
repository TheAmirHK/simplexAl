{
  "nbformat": 4,
  "nbformat_minor": 0,
  "metadata": {
    "colab": {
      "provenance": [],
      "authorship_tag": "ABX9TyP0eijUMMh08hD/gbAmvCBy",
      "include_colab_link": true
    },
    "kernelspec": {
      "name": "python3",
      "display_name": "Python 3"
    },
    "language_info": {
      "name": "python"
    }
  },
  "cells": [
    {
      "cell_type": "markdown",
      "metadata": {
        "id": "view-in-github",
        "colab_type": "text"
      },
      "source": [
        "<a href=\"https://colab.research.google.com/github/TheAmirHK/simplexAl/blob/main/Simplex.ipynb\" target=\"_parent\"><img src=\"https://colab.research.google.com/assets/colab-badge.svg\" alt=\"Open In Colab\"/></a>"
      ]
    },
    {
      "cell_type": "code",
      "source": [
        "import numpy as np\n",
        "\n",
        "def simplex(c, A, b):\n",
        "    c = np.array(c, dtype=float)\n",
        "    A = np.array(A, dtype=float)\n",
        "    b = np.array(b, dtype=float)\n",
        "\n",
        "    num_vars = len(c)\n",
        "    num_constraints = len(A)\n",
        "\n",
        "    tableau = np.hstack([A, np.eye(num_constraints), b.reshape(-1, 1)])\n",
        "    c_row = np.hstack([-c, np.zeros(num_constraints + 1)])\n",
        "    tableau = np.vstack([tableau, c_row])\n",
        "\n",
        "    var_labels = [f\"x{i+1}\" for i in range(num_vars)] + [f\"s{i+1}\" for i in range(num_constraints)]\n",
        "\n",
        "    step = 0\n",
        "    print_tableau(tableau, step, var_labels)\n",
        "\n",
        "    while True:\n",
        "        last_row = tableau[-1, :-1]\n",
        "        if np.all(last_row >= 0):\n",
        "            break\n",
        "\n",
        "        entering_col = np.argmin(last_row)\n",
        "\n",
        "        ratios = tableau[:-1, -1] / tableau[:-1, entering_col]\n",
        "        ratios[ratios <= 0] = np.inf\n",
        "        leaving_row = np.argmin(ratios)\n",
        "\n",
        "        pivot_element = tableau[leaving_row, entering_col]\n",
        "        tableau[leaving_row] /= pivot_element\n",
        "\n",
        "        for i in range(len(tableau)):\n",
        "            if i != leaving_row:\n",
        "                tableau[i] -= tableau[i, entering_col] * tableau[leaving_row]\n",
        "\n",
        "        step += 1\n",
        "        print_tableau(tableau, step, var_labels)\n",
        "\n",
        "    solution = np.zeros(num_vars)\n",
        "    for i in range(num_vars):\n",
        "        column = tableau[:-1, i]\n",
        "        if np.sum(column == 1) == 1 and np.sum(column) == 1:\n",
        "            row_index = np.where(column == 1)[0][0]\n",
        "            solution[i] = tableau[row_index, -1]\n",
        "\n",
        "    optimal_value = tableau[-1, -1]\n",
        "\n",
        "    return optimal_value, solution\n",
        "\n",
        "def print_tableau(tableau, step, var_labels):\n",
        "\n",
        "    print(f\"\\nStep {step}:\")\n",
        "    print(\"    \" + \"  \".join(var_labels + [\"RHS\"]))\n",
        "    for row in tableau:\n",
        "        print(\"  \".join(f\"{val:6.2f}\" for val in row))\n",
        "    print(\"-\" * 60)"
      ],
      "metadata": {
        "id": "QOagM_Dh_QWN"
      },
      "execution_count": 30,
      "outputs": []
    },
    {
      "cell_type": "code",
      "source": [
        "# example\n",
        "\n",
        "c = [5, 4, -3]  # maximize 5x1 + 4x2 - 3x3\n",
        "A = [[20, 3, 1],  # 20x1 + 3x2 + x3 ≤ 50\n",
        "     [4, -1, 2],  # 4x1 - x2 + 2x3 ≤ 110\n",
        "     [3, 4, 2]]  # 3x1 + 4x2 + 2x3 ≤ 8\n",
        "b = [50, 110, 8]\n",
        "\n",
        "optimal_value, solution = simplex(c, A, b)"
      ],
      "metadata": {
        "colab": {
          "base_uri": "https://localhost:8080/"
        },
        "id": "HHATS3ZGDqIo",
        "outputId": "72d504aa-556c-48f7-c3dc-9c8f9ae7bebe"
      },
      "execution_count": 31,
      "outputs": [
        {
          "output_type": "stream",
          "name": "stdout",
          "text": [
            "\n",
            "Step 0:\n",
            "    x1  x2  x3  s1  s2  s3  RHS\n",
            " 20.00    3.00    1.00    1.00    0.00    0.00   50.00\n",
            "  4.00   -1.00    2.00    0.00    1.00    0.00  110.00\n",
            "  3.00    4.00    2.00    0.00    0.00    1.00    8.00\n",
            " -5.00   -4.00    3.00    0.00    0.00    0.00    0.00\n",
            "------------------------------------------------------------\n",
            "\n",
            "Step 1:\n",
            "    x1  x2  x3  s1  s2  s3  RHS\n",
            "  1.00    0.15    0.05    0.05    0.00    0.00    2.50\n",
            "  0.00   -1.60    1.80   -0.20    1.00    0.00  100.00\n",
            "  0.00    3.55    1.85   -0.15    0.00    1.00    0.50\n",
            "  0.00   -3.25    3.25    0.25    0.00    0.00   12.50\n",
            "------------------------------------------------------------\n",
            "\n",
            "Step 2:\n",
            "    x1  x2  x3  s1  s2  s3  RHS\n",
            "  1.00    0.00   -0.03    0.06    0.00   -0.04    2.48\n",
            "  0.00    0.00    2.63   -0.27    1.00    0.45  100.23\n",
            "  0.00    1.00    0.52   -0.04    0.00    0.28    0.14\n",
            "  0.00    0.00    4.94    0.11    0.00    0.92   12.96\n",
            "------------------------------------------------------------\n"
          ]
        }
      ]
    },
    {
      "cell_type": "code",
      "source": [
        "print(\"\\nOptimal value:\", optimal_value)\n",
        "print(\"Optimal solution:\", solution)"
      ],
      "metadata": {
        "colab": {
          "base_uri": "https://localhost:8080/"
        },
        "id": "Hcxcu2wkDvWQ",
        "outputId": "14064e52-e50f-4da3-8d6f-c7c7a3b2fc47"
      },
      "execution_count": 32,
      "outputs": [
        {
          "output_type": "stream",
          "name": "stdout",
          "text": [
            "\n",
            "Optimal value: 12.95774647887324\n",
            "Optimal solution: [2.47887324 0.14084507 0.        ]\n"
          ]
        }
      ]
    }
  ]
}